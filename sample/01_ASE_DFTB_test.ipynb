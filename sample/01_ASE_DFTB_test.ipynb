{
 "cells": [
  {
   "cell_type": "markdown",
   "metadata": {},
   "source": [
    "## ASEからDFTB+を実行するのに必要な環境変数の設定\n",
    "- PFTB_PREFIX : 使用するDFTBパラメータ(Slater-Koster file, skf file)が格納されているディレクトリのパス\n",
    "- DFTB_COMMAND : which dftb+で確認"
   ]
  },
  {
   "cell_type": "code",
   "execution_count": 8,
   "metadata": {},
   "outputs": [],
   "source": [
    "import os\n",
    "\n",
    "# ASEからDFTB+を実行するのに必要な環境変数の設定\n",
    "os.environ['DFTB_PREFIX'] = '../params/PTBP_complete_set/'\n",
    "os.environ['DFTB_COMMAND'] = '~/opt/anaconda3/envs/dftb_env01/bin/dftb+'"
   ]
  },
  {
   "cell_type": "markdown",
   "metadata": {},
   "source": [
    "## 計算対象の構造を読み込む\n",
    "今回はH2O 1分子の構造を読み込みます（H2O_cluster.gen）  \n",
    "中身は以下のように記載されています。  \n",
    "3  C  #原子数、C(Clusterモデルの計算ですよという指定)  \n",
    " O H  # 1番目の元素はO, 2番目の元素はH  \n",
    "     1    1    0.00000000000E+00  -0.10000000000E+01   0.00000000000E+00  # 原子1 は　1番目の元素(O) x座標, y座標, z座標   \n",
    "     2    2    0.00000000000E+00   0.00000000000E+00   0.78306400000E+00  \n",
    "     3    2    0.00000000000E+00   0.00000000000E+00  -0.78306400000E+00  "
   ]
  },
  {
   "cell_type": "code",
   "execution_count": 12,
   "metadata": {},
   "outputs": [],
   "source": [
    "from ase.io import read\n",
    "from ase.calculators.dftb import Dftb\n",
    "from ase.visualize import view\n",
    "\n",
    "\n",
    "GEO_PATH = './H2O_cluster.gen'\n",
    "system = read(GEO_PATH, format='gen')"
   ]
  },
  {
   "cell_type": "markdown",
   "metadata": {},
   "source": [
    "## 化学構造の可視化\n",
    "（ここはもう少しインタラクティブに可視化できるように設定したい）"
   ]
  },
  {
   "cell_type": "code",
   "execution_count": 13,
   "metadata": {},
   "outputs": [
    {
     "data": {
      "text/plain": [
       "<Popen: returncode: None args: ['/Users/junoshiki/opt/anaconda3/envs/dftb_en...>"
      ]
     },
     "execution_count": 13,
     "metadata": {},
     "output_type": "execute_result"
    }
   ],
   "source": [
    "view(system)"
   ]
  },
  {
   "cell_type": "markdown",
   "metadata": {},
   "source": [
    "## 計算実行"
   ]
  },
  {
   "cell_type": "code",
   "execution_count": 14,
   "metadata": {},
   "outputs": [],
   "source": [
    "calc = Dftb(label='H2O_cluster', atoms=system,\n",
    "        Hamiltonian_SCC='Yes',\n",
    "        Hamiltonian_SCCTolerance='1.00E-010',\n",
    "        Driver_='ConjugateGradient',\n",
    "        Driver_MaxForceComponent='1.00E-008',\n",
    "        Driver_MaxSteps=1000,\n",
    "        Hamiltonian_MaxAngularMomentum_='',\n",
    "        Hamiltonian_MaxAngularMomentum_O='\"p\"',\n",
    "        Hamiltonian_MaxAngularMomentum_H='\"s\"')\n",
    "\n",
    "system.set_calculator(calc)\n",
    "calc.calculate(system)"
   ]
  },
  {
   "cell_type": "code",
   "execution_count": 15,
   "metadata": {},
   "outputs": [],
   "source": [
    "final = read('geo_end.gen')"
   ]
  },
  {
   "cell_type": "code",
   "execution_count": 16,
   "metadata": {},
   "outputs": [
    {
     "name": "stdout",
     "output_type": "stream",
     "text": [
      "-109.3934537933204\n"
     ]
    }
   ],
   "source": [
    "forces = system.get_forces()\n",
    "energy = system.get_potential_energy()\n",
    "print(energy)"
   ]
  },
  {
   "cell_type": "code",
   "execution_count": 17,
   "metadata": {},
   "outputs": [
    {
     "name": "stdout",
     "output_type": "stream",
     "text": [
      "[[ 4.29571155e-25 -1.06963520e-07  1.46076623e-10]\n",
      " [ 5.39760338e-16  5.34309872e-08 -3.92730474e-07]\n",
      " [-5.39760338e-16  5.35325324e-08  3.92584398e-07]]\n"
     ]
    }
   ],
   "source": [
    "print(forces)"
   ]
  },
  {
   "cell_type": "code",
   "execution_count": null,
   "metadata": {},
   "outputs": [],
   "source": []
  }
 ],
 "metadata": {
  "kernelspec": {
   "display_name": "dftb_env01",
   "language": "python",
   "name": "python3"
  },
  "language_info": {
   "codemirror_mode": {
    "name": "ipython",
    "version": 3
   },
   "file_extension": ".py",
   "mimetype": "text/x-python",
   "name": "python",
   "nbconvert_exporter": "python",
   "pygments_lexer": "ipython3",
   "version": "3.10.13"
  },
  "orig_nbformat": 4
 },
 "nbformat": 4,
 "nbformat_minor": 2
}
